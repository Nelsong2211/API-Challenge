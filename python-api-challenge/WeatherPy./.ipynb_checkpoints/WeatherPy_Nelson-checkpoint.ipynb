{
 "cells": [
  {
   "cell_type": "markdown",
   "metadata": {},
   "source": [
    "# WeatherPy\n",
    "----\n",
    "\n",
    "#### Note\n",
    "* Instructions have been included for each segment. You do not have to follow them exactly, but they are included to help you think through the steps."
   ]
  },
  {
   "cell_type": "code",
   "execution_count": 1,
   "metadata": {
    "scrolled": true
   },
   "outputs": [],
   "source": [
    "# Dependencies and Setup\n",
    "import matplotlib.pyplot as plt\n",
    "import pandas as pd\n",
    "import numpy as np\n",
    "import requests\n",
    "import time\n",
    "from scipy.stats import linregress\n",
    "from pprint import pprint\n",
    "import scipy.stats as sts\n",
    "\n",
    "# Import API key\n",
    "from api_keys import weather_api_key\n",
    "\n",
    "# Incorporated citipy to determine city based on latitude and longitude\n",
    "from citipy import citipy\n",
    "\n",
    "# Output File (CSV)\n",
    "output_data_file = \"output_data/cities.csv\"\n",
    "\n",
    "# Range of latitudes and longitudes\n",
    "lat_range = (-90, 90)\n",
    "lng_range = (-180, 180)"
   ]
  },
  {
   "cell_type": "code",
   "execution_count": 2,
   "metadata": {},
   "outputs": [
    {
     "data": {
      "text/plain": [
       "'b94a3cd21aad294df7433f9e4dfc7bb7'"
      ]
     },
     "execution_count": 2,
     "metadata": {},
     "output_type": "execute_result"
    }
   ],
   "source": [
    "#chaking the api_key\n",
    "weather_api_key"
   ]
  },
  {
   "cell_type": "markdown",
   "metadata": {},
   "source": [
    "## Generate Cities List"
   ]
  },
  {
   "cell_type": "code",
   "execution_count": 3,
   "metadata": {},
   "outputs": [
    {
     "data": {
      "text/plain": [
       "585"
      ]
     },
     "execution_count": 3,
     "metadata": {},
     "output_type": "execute_result"
    }
   ],
   "source": [
    "# List for holding lat_lngs and cities\n",
    "lat_lngs = []\n",
    "cities = []\n",
    "\n",
    "# Create a set of random lat and lng combinations\n",
    "lats = np.random.uniform(lat_range[0], lat_range[1], size=1500)\n",
    "lngs = np.random.uniform(lng_range[0], lng_range[1], size=1500)\n",
    "lat_lngs = zip(lats, lngs)\n",
    "\n",
    "# Identify nearest city for each lat, lng combination\n",
    "for lat_lng in lat_lngs:\n",
    "    city = citipy.nearest_city(lat_lng[0], lat_lng[1]).city_name\n",
    "    \n",
    "    # If the city is unique, then add it to a our cities list\n",
    "    if city not in cities:\n",
    "        cities.append(city)\n",
    "\n",
    "# Print the city count to confirm sufficient count\n",
    "len(cities)"
   ]
  },
  {
   "cell_type": "code",
   "execution_count": null,
   "metadata": {},
   "outputs": [],
   "source": []
  },
  {
   "cell_type": "markdown",
   "metadata": {},
   "source": [
    "### Perform API Calls\n",
    "* Perform a weather check on each city using a series of successive API calls.\n",
    "* Include a print log of each city as it'sbeing processed (with the city number and city name).\n"
   ]
  },
  {
   "cell_type": "code",
   "execution_count": 4,
   "metadata": {},
   "outputs": [],
   "source": [
    "# build thje url (test)\n",
    "url = \"http://api.openweathermap.org/data/2.5/weather?\"\n",
    "city = \"clyde river\"\n",
    "cURL = url + \"appid=\" + weather_api_key + \"&q=\" + city\n"
   ]
  },
  {
   "cell_type": "code",
   "execution_count": 5,
   "metadata": {
    "scrolled": true
   },
   "outputs": [
    {
     "name": "stdout",
     "output_type": "stream",
     "text": [
      "{'base': 'stations',\n",
      " 'clouds': {'all': 90},\n",
      " 'cod': 200,\n",
      " 'coord': {'lat': 70.47, 'lon': -68.59},\n",
      " 'dt': 1600062747,\n",
      " 'id': 5924351,\n",
      " 'main': {'feels_like': 270.53,\n",
      "          'humidity': 83,\n",
      "          'pressure': 1010,\n",
      "          'temp': 274.15,\n",
      "          'temp_max': 274.15,\n",
      "          'temp_min': 274.15},\n",
      " 'name': 'Clyde River',\n",
      " 'sys': {'country': 'CA',\n",
      "         'id': 776,\n",
      "         'sunrise': 1600076634,\n",
      "         'sunset': 1600125350,\n",
      "         'type': 1},\n",
      " 'timezone': -14400,\n",
      " 'visibility': 10000,\n",
      " 'weather': [{'description': 'overcast clouds',\n",
      "              'icon': '04n',\n",
      "              'id': 804,\n",
      "              'main': 'Clouds'}],\n",
      " 'wind': {'deg': 182, 'speed': 2.03}}\n"
     ]
    }
   ],
   "source": [
    "# request ans convert it in jason \n",
    "response = requests.get(cURL).json()\n",
    "pprint(response)"
   ]
  },
  {
   "cell_type": "code",
   "execution_count": null,
   "metadata": {},
   "outputs": [
    {
     "name": "stdout",
     "output_type": "stream",
     "text": [
      "Processing Record saskylakh\n",
      "Processing Record ushuaia\n",
      "Processing Record sorong\n",
      "Processing Record traiguen\n",
      "Processing Record poum\n",
      "Processing Record thompson\n",
      "City not found. Skipping...\n",
      "Processing Record burnie\n",
      "Processing Record mar del plata\n",
      "Processing Record praia da vitoria\n",
      "City not found. Skipping...\n",
      "Processing Record ponta do sol\n",
      "Processing Record faanui\n",
      "Processing Record hermanus\n",
      "Processing Record nikolskoye\n",
      "Processing Record itoman\n",
      "City not found. Skipping...\n",
      "Processing Record dunedin\n",
      "City not found. Skipping...\n",
      "Processing Record yellowknife\n",
      "Processing Record hobart\n",
      "Processing Record sisimiut\n",
      "Processing Record santander\n",
      "Processing Record turukhansk\n",
      "City not found. Skipping...\n",
      "City not found. Skipping...\n",
      "Processing Record airai\n",
      "Processing Record hilo\n",
      "City not found. Skipping...\n",
      "City not found. Skipping...\n",
      "Processing Record avarua\n",
      "Processing Record bluff\n",
      "Processing Record busselton\n",
      "Processing Record pacific grove\n",
      "Processing Record arraial do cabo\n",
      "Processing Record ponnani\n",
      "Processing Record puerto ayora\n",
      "Processing Record dalby\n",
      "Processing Record chokurdakh\n",
      "Processing Record sitka\n",
      "Processing Record santiago del estero\n",
      "Processing Record saldanha\n",
      "Processing Record colares\n",
      "Processing Record upernavik\n",
      "Processing Record cap-aux-meules\n",
      "Processing Record tual\n",
      "Processing Record carnarvon\n",
      "Processing Record east london\n",
      "Processing Record saint-michel-des-saints\n",
      "Processing Record kapaa\n",
      "Processing Record cairneyhill\n",
      "Processing Record ifanadiana\n",
      "Processing Record marsh harbour\n",
      "Processing Record albany\n"
     ]
    }
   ],
   "source": [
    "# make an empty list\n",
    "\n",
    "lat = []\n",
    "lon = []   \n",
    "MTemp = []   \n",
    "humidity = [] \n",
    "cloudinnes = []   \n",
    "windspeed = []\n",
    "name = []\n",
    "country = [] \n",
    "date = []\n",
    "# make the loop\n",
    "for city in cities:\n",
    "    #try and except\n",
    "    try:\n",
    "        # create the url for the loop and past the response to json\n",
    "        cURL = url + \"appid=\" + weather_api_key + \"&q=\" + city\n",
    "        response = requests.get(cURL).json()\n",
    "        \n",
    "        #append the data into the emty list \n",
    "        lat.append(response['coord']['lat'])\n",
    "        lon.append(response['coord']['lon'])\n",
    "        MTemp.append(response['main']['temp_max'])\n",
    "        humidity.append(response['main']['humidity'])\n",
    "        cloudinnes.append(response['clouds']['all'])\n",
    "        windspeed.append(response['wind']['speed'])\n",
    "        name.append(response['name'])\n",
    "        \n",
    "        country.append(response['sys']['country'])\n",
    "        date.append(response['dt'])\n",
    "        #close the try and except, \n",
    "        #print to know the loop status\n",
    "        print(f\"Processing Record \" + city)    \n",
    "    except KeyError:\n",
    "        print(\"City not found. Skipping...\")\n",
    "        pass\n",
    "    "
   ]
  },
  {
   "cell_type": "code",
   "execution_count": null,
   "metadata": {},
   "outputs": [],
   "source": []
  },
  {
   "cell_type": "markdown",
   "metadata": {},
   "source": [
    "### Convert Raw Data to DataFrame\n",
    "* Export the city data into a .csv.\n",
    "* Display the DataFrame"
   ]
  },
  {
   "cell_type": "code",
   "execution_count": null,
   "metadata": {},
   "outputs": [],
   "source": [
    "d={\"name\" : name, \"country\": country, \"lat\": lat, \"lon\": lon, \"MTemp\": MTemp, \"humidity\": humidity, \"cloudinnes\": cloudinnes, \"windspeed\": windspeed, \"date\": date}\n",
    "df = pd.DataFrame(d)\n",
    "df.to_csv(\"countries_data.csv\", index = False)\n",
    "df2 = pd.read_csv(\"countries_data.csv\")\n",
    "df2.head()"
   ]
  },
  {
   "cell_type": "code",
   "execution_count": null,
   "metadata": {},
   "outputs": [],
   "source": []
  },
  {
   "cell_type": "markdown",
   "metadata": {},
   "source": [
    "## Inspect the data and remove the cities where the humidity > 100%.\n",
    "----\n",
    "Skip this step if there are no cities that have humidity > 100%. "
   ]
  },
  {
   "cell_type": "code",
   "execution_count": null,
   "metadata": {},
   "outputs": [],
   "source": [
    "# check if there are cities that have humidity > 100%.\n",
    "# there are not.plt.\n",
    "df2.loc[(df2[\"humidity\"]>100)]"
   ]
  },
  {
   "cell_type": "code",
   "execution_count": null,
   "metadata": {},
   "outputs": [],
   "source": [
    "#  Get the indices of cities that have humidity over 100%.\n"
   ]
  },
  {
   "cell_type": "code",
   "execution_count": null,
   "metadata": {},
   "outputs": [],
   "source": [
    "# Make a new DataFrame equal to the city data to drop all humidity outliers by index.\n",
    "# Passing \"inplace=False\" will make a copy of the city_data DataFrame, which we call \"clean_city_data\".\n"
   ]
  },
  {
   "cell_type": "code",
   "execution_count": null,
   "metadata": {},
   "outputs": [],
   "source": [
    "# Extract relevant fields from the data frame\n",
    "\n",
    "\n",
    "# Export the City_Data into a csv\n"
   ]
  },
  {
   "cell_type": "markdown",
   "metadata": {},
   "source": [
    "# Plotting the Data\n",
    "* Use proper labeling of the plots using plot titles (including date of analysis) and axes labels.\n",
    "* Save the plotted figures as .pngs."
   ]
  },
  {
   "cell_type": "markdown",
   "metadata": {},
   "source": [
    "## Latitude vs. Temperature Plot"
   ]
  },
  {
   "cell_type": "code",
   "execution_count": null,
   "metadata": {},
   "outputs": [],
   "source": [
    "df2.head()"
   ]
  },
  {
   "cell_type": "code",
   "execution_count": null,
   "metadata": {
    "scrolled": true
   },
   "outputs": [],
   "source": [
    "# Generate a scatter plot of Latitude vs. Max Temperature\n",
    "x=df2['lat']\n",
    "y=df2['MTemp']\n",
    "\n",
    "plt.scatter(x,y, alpha= 0.75, facecolors= \"red\", edgecolors=\"blue\")\n",
    "plt.title(\"Latitude vs. Max Temperature (12-sep-20)\")\n",
    "plt.xlabel(\"lat\")\n",
    "plt.ylabel(\"MTemp\")\n",
    "plt.grid()\n",
    "\n",
    "plt.show()\n",
    "#Save the plotted figures as png\n",
    "plt.savefig('Lat vs. Max Temp.png')"
   ]
  },
  {
   "cell_type": "markdown",
   "metadata": {},
   "source": [
    "## Latitude vs. Humidity Plot"
   ]
  },
  {
   "cell_type": "code",
   "execution_count": null,
   "metadata": {},
   "outputs": [],
   "source": [
    "x=df2['lat']\n",
    "y=df2['humidity']\n",
    "\n",
    "plt.scatter(x,y, alpha= 0.75, facecolors= \"red\", edgecolors=\"blue\")\n",
    "plt.title(\"Latitude vs. Humidity (12-sep-20)\")\n",
    "plt.xlabel(\"lat\")\n",
    "plt.ylabel(\"humidity\")\n",
    "plt.grid()\n",
    "\n",
    "plt.show()\n",
    "#Save the plotted figures as png\n",
    "plt.savefig('Lat vs. Humidity.png')"
   ]
  },
  {
   "cell_type": "markdown",
   "metadata": {},
   "source": [
    "## Latitude vs. Cloudiness Plot"
   ]
  },
  {
   "cell_type": "code",
   "execution_count": null,
   "metadata": {},
   "outputs": [],
   "source": [
    "# Generate a scatter plot of Latitude vs. Cloudiness\n",
    "x=df2['lat']\n",
    "y=df2['cloudinnes']\n",
    "\n",
    "plt.scatter(x,y, alpha= 0.75, facecolors= \"red\", edgecolors=\"blue\")\n",
    "plt.title(\"Latitude vs. Cloudiness (12-sep-20)\")\n",
    "plt.xlabel(\"lat\")\n",
    "plt.ylabel(\"cloudinnes\")\n",
    "plt.grid()\n",
    "\n",
    "plt.show()\n",
    "\n",
    "#Save the plotted figures as png\n",
    "plt.savefig('Lat vs. Cloudiness.png')"
   ]
  },
  {
   "cell_type": "markdown",
   "metadata": {},
   "source": [
    "## Latitude vs. Wind Speed Plot"
   ]
  },
  {
   "cell_type": "code",
   "execution_count": null,
   "metadata": {},
   "outputs": [],
   "source": [
    "# Generate a scatter plot of Latitude vs. Wind Speed\n",
    "x=df2['lat']\n",
    "y=df2['windspeed']\n",
    "\n",
    "plt.scatter(x,y, alpha= 0.75, facecolors= \"red\", edgecolors=\"blue\")\n",
    "plt.title(\"Latitude vs. Wind Speed (12-sep-20)\")\n",
    "plt.xlabel(\"lat\")\n",
    "plt.ylabel(\"wind Speed\")\n",
    "plt.grid()\n",
    "\n",
    "plt.show()\n",
    "\n",
    "#Save the plotted figures as png\n",
    "plt.savefig('Lat vs. Wind Speed.png')"
   ]
  },
  {
   "cell_type": "markdown",
   "metadata": {},
   "source": [
    "## Linear Regression"
   ]
  },
  {
   "cell_type": "code",
   "execution_count": null,
   "metadata": {},
   "outputs": [],
   "source": [
    "# OPTIONAL: Create a function to create Linear Regression plots\n"
   ]
  },
  {
   "cell_type": "code",
   "execution_count": null,
   "metadata": {},
   "outputs": [],
   "source": [
    "# Create Northern and Southern Hemisphere DataFrames\n",
    "Northern_Hemisphere = df2[df2['lat']>0]\n",
    "Northern_Hemisphere.head()"
   ]
  },
  {
   "cell_type": "code",
   "execution_count": null,
   "metadata": {},
   "outputs": [],
   "source": [
    "Southern_Hemisphere = df2[df2['lat']<0]\n",
    "Southern_Hemisphere.head()"
   ]
  },
  {
   "cell_type": "markdown",
   "metadata": {},
   "source": [
    "####  Northern Hemisphere - Max Temp vs. Latitude Linear Regression"
   ]
  },
  {
   "cell_type": "code",
   "execution_count": null,
   "metadata": {},
   "outputs": [],
   "source": [
    "\n",
    "corr=round(sts.pearsonr(Northern_Hemisphere['MTemp'], Northern_Hemisphere['lat'])[0],2)\n",
    "print(f\"The correlation between Northern Hemisphere - Max Temp vs. Latitude is {corr}\")\n",
    "model = sts.linregress(Northern_Hemisphere['MTemp'], Northern_Hemisphere['lat'])\n",
    "y_values = Northern_Hemisphere['MTemp']*model[0]+model[1]\n",
    "\n",
    "plt.scatter(Northern_Hemisphere['MTemp'],Northern_Hemisphere['lat'], alpha= 0.75, facecolors= \"red\", edgecolors=\"blue\", marker=\"*\")\n",
    "plt.plot(Northern_Hemisphere['MTemp'], y_values,color=\"green\")\n",
    "plt.title(\"Northern Hemisphere - Max Temp vs. Latitude Linear Regression (13-sep-20)\")\n",
    "\n",
    "plt.xlabel(\"lat\")\n",
    "plt.ylabel(\"MTemp\")\n",
    "plt.grid()\n",
    "\n",
    "plt.show()"
   ]
  },
  {
   "cell_type": "markdown",
   "metadata": {},
   "source": [
    "####  Southern Hemisphere - Max Temp vs. Latitude Linear Regression"
   ]
  },
  {
   "cell_type": "code",
   "execution_count": null,
   "metadata": {},
   "outputs": [],
   "source": [
    "corr=round(sts.pearsonr(Southern_Hemisphere['MTemp'], Southern_Hemisphere['lat'])[0],2)\n",
    "print(f\"The correlation between Southern_Hemisphere - Max Temp vs. Latitude is {corr}\")\n",
    "model = sts.linregress(Southern_Hemisphere['MTemp'], Southern_Hemisphere['lat'])\n",
    "y_values = Southern_Hemisphere['MTemp']*model[0]+model[1]\n",
    "\n",
    "plt.scatter(Southern_Hemisphere['MTemp'],Southern_Hemisphere['lat'], alpha= 0.75, facecolors= \"red\", edgecolors=\"blue\", marker=\"*\")\n",
    "plt.plot(Southern_Hemisphere['MTemp'], y_values,color=\"green\")\n",
    "plt.title(\"Southern_Hemisphere - Max Temp vs. Latitude Linear Regression (13-sep-20)\")\n",
    "\n",
    "plt.xlabel(\"lat\")\n",
    "plt.ylabel(\"MTemp\")\n",
    "plt.grid()\n",
    "\n",
    "plt.show()"
   ]
  },
  {
   "cell_type": "markdown",
   "metadata": {},
   "source": [
    "####  Northern Hemisphere - Humidity (%) vs. Latitude Linear Regression"
   ]
  },
  {
   "cell_type": "code",
   "execution_count": null,
   "metadata": {},
   "outputs": [],
   "source": [
    "corr=round(sts.pearsonr(Northern_Hemisphere['humidity'], Northern_Hemisphere['lat'])[0],2)\n",
    "print(f\"The correlation between Northern Hemisphere - Humidity (%) vs. Latitude is {corr}\")\n",
    "model = sts.linregress(Northern_Hemisphere['humidity'], Northern_Hemisphere['lat'])\n",
    "y_values = Northern_Hemisphere['humidity']*model[0]+model[1]\n",
    "\n",
    "plt.scatter(Northern_Hemisphere['humidity'],Northern_Hemisphere['lat'], alpha= 0.75, facecolors= \"red\", edgecolors=\"blue\", marker=\"*\")\n",
    "plt.plot(Northern_Hemisphere['humidity'], y_values,color=\"green\")\n",
    "plt.title(\"Northern Hemisphere - humidity vs. Latitude Linear Regression (13-sep-20)\")\n",
    "\n",
    "plt.xlabel(\"lat\")\n",
    "plt.ylabel(\"humidity\")\n",
    "plt.grid()\n",
    "\n",
    "plt.show()"
   ]
  },
  {
   "cell_type": "markdown",
   "metadata": {},
   "source": [
    "####  Southern Hemisphere - Humidity (%) vs. Latitude Linear Regression"
   ]
  },
  {
   "cell_type": "code",
   "execution_count": null,
   "metadata": {},
   "outputs": [],
   "source": [
    "corr=round(sts.pearsonr(Southern_Hemisphere['humidity'], Southern_Hemisphere['lat'])[0],2)\n",
    "print(f\"The correlation between Southern_Hemisphere - humidity vs. Latitude is {corr}\")\n",
    "model = sts.linregress(Southern_Hemisphere['humidity'], Southern_Hemisphere['lat'])\n",
    "y_values = Southern_Hemisphere['humidity']*model[0]+model[1]\n",
    "\n",
    "plt.scatter(Southern_Hemisphere['humidity'],Southern_Hemisphere['lat'], alpha= 0.75, facecolors= \"red\", edgecolors=\"blue\", marker=\"*\")\n",
    "plt.plot(Southern_Hemisphere['humidity'], y_values,color=\"green\")\n",
    "plt.title(\"Southern_Hemisphere - humidity vs. Latitude Linear Regression (13-sep-20)\")\n",
    "\n",
    "plt.xlabel(\"lat\")\n",
    "plt.ylabel(\"humidity\")\n",
    "plt.grid()\n",
    "\n",
    "plt.show()\n"
   ]
  },
  {
   "cell_type": "markdown",
   "metadata": {},
   "source": [
    "####  Northern Hemisphere - Cloudiness (%) vs. Latitude Linear Regression"
   ]
  },
  {
   "cell_type": "code",
   "execution_count": null,
   "metadata": {},
   "outputs": [],
   "source": [
    "corr=round(sts.pearsonr(Northern_Hemisphere['cloudinnes'], Northern_Hemisphere['lat'])[0],2)\n",
    "print(f\"The correlation between Northern Hemisphere - Cloudiness (%) vs. Latitude is {corr}\")\n",
    "model = sts.linregress(Northern_Hemisphere['cloudinnes'], Northern_Hemisphere['lat'])\n",
    "y_values = Northern_Hemisphere['cloudinnes']*model[0]+model[1]\n",
    "\n",
    "plt.scatter(Northern_Hemisphere['cloudinnes'],Northern_Hemisphere['lat'], alpha= 0.75, facecolors= \"red\", edgecolors=\"blue\", marker=\"*\")\n",
    "plt.plot(Northern_Hemisphere['cloudinnes'], y_values,color=\"green\")\n",
    "plt.title(\"Northern Hemisphere - Cloudiness (%) vs. Latitude Linear Regression (13-sep-20)\")\n",
    "\n",
    "plt.xlabel(\"lat\")\n",
    "plt.ylabel(\"cloudinnes\")\n",
    "plt.grid()\n",
    "\n",
    "plt.show()"
   ]
  },
  {
   "cell_type": "markdown",
   "metadata": {},
   "source": [
    "####  Southern Hemisphere - Cloudiness (%) vs. Latitude Linear Regression"
   ]
  },
  {
   "cell_type": "code",
   "execution_count": null,
   "metadata": {},
   "outputs": [],
   "source": [
    "corr=round(sts.pearsonr(Southern_Hemisphere['cloudinnes'], Southern_Hemisphere['lat'])[0],2)\n",
    "print(f\"The correlation between Southern_Hemisphere - cloudinnes vs. Latitude is {corr}\")\n",
    "model = sts.linregress(Southern_Hemisphere['cloudinnes'], Southern_Hemisphere['lat'])\n",
    "y_values = Southern_Hemisphere['cloudinnes']*model[0]+model[1]\n",
    "\n",
    "plt.scatter(Southern_Hemisphere['cloudinnes'],Southern_Hemisphere['lat'], alpha= 0.75, facecolors= \"red\", edgecolors=\"blue\", marker=\"*\")\n",
    "plt.plot(Southern_Hemisphere['cloudinnes'], y_values,color=\"green\")\n",
    "plt.title(\"Southern_Hemisphere - cloudinnes vs. Latitude Linear Regression (13-sep-20)\")\n",
    "\n",
    "plt.xlabel(\"lat\")\n",
    "plt.ylabel(\"cloudinnes\")\n",
    "plt.grid()\n",
    "\n",
    "plt.show()"
   ]
  },
  {
   "cell_type": "markdown",
   "metadata": {},
   "source": [
    "####  Northern Hemisphere - Wind Speed (mph) vs. Latitude Linear Regression"
   ]
  },
  {
   "cell_type": "code",
   "execution_count": null,
   "metadata": {},
   "outputs": [],
   "source": [
    "corr=round(sts.pearsonr(Northern_Hemisphere['windspeed'], Northern_Hemisphere['lat'])[0],2)\n",
    "print(f\"The correlation between Northern Hemisphere - Wind Speed (mph) vs. Latitude Linear is {corr}\")\n",
    "model = sts.linregress(Northern_Hemisphere['windspeed'], Northern_Hemisphere['lat'])\n",
    "y_values = Northern_Hemisphere['windspeed']*model[0]+model[1]\n",
    "\n",
    "plt.scatter(Northern_Hemisphere['windspeed'],Northern_Hemisphere['lat'], alpha= 0.75, facecolors= \"red\", edgecolors=\"blue\", marker=\"*\")\n",
    "plt.plot(Northern_Hemisphere['windspeed'], y_values,color=\"green\")\n",
    "plt.title(\"Northern Hemisphere - Wind Speed (mph) vs. Latitude Linear Linear Regression (13-sep-20)\")\n",
    "\n",
    "plt.xlabel(\"lat\")\n",
    "plt.ylabel(\"windspeed\")\n",
    "plt.grid()\n",
    "\n",
    "plt.show()\n"
   ]
  },
  {
   "cell_type": "markdown",
   "metadata": {},
   "source": [
    "####  Southern Hemisphere - Wind Speed (mph) vs. Latitude Linear Regression"
   ]
  },
  {
   "cell_type": "code",
   "execution_count": null,
   "metadata": {},
   "outputs": [],
   "source": [
    "corr=round(sts.pearsonr(Southern_Hemisphere['windspeed'], Southern_Hemisphere['lat'])[0],2)\n",
    "print(f\"The correlation between Southern_Hemisphere - windspeed vs. Latitude is {corr}\")\n",
    "model = sts.linregress(Southern_Hemisphere['windspeed'], Southern_Hemisphere['lat'])\n",
    "y_values = Southern_Hemisphere['windspeed']*model[0]+model[1]\n",
    "\n",
    "plt.scatter(Southern_Hemisphere['windspeed'],Southern_Hemisphere['lat'], alpha= 0.75, facecolors= \"red\", edgecolors=\"blue\", marker=\"*\")\n",
    "plt.plot(Southern_Hemisphere['windspeed'], y_values,color=\"green\")\n",
    "plt.title(\"Southern_Hemisphere - windspeed vs. Latitude Linear Regression (13-sep-20)\")\n",
    "\n",
    "plt.xlabel(\"lat\")\n",
    "plt.ylabel(\"windspeed\")\n",
    "plt.grid()\n",
    "\n",
    "plt.show()"
   ]
  },
  {
   "cell_type": "code",
   "execution_count": null,
   "metadata": {},
   "outputs": [],
   "source": []
  }
 ],
 "metadata": {
  "anaconda-cloud": {},
  "kernel_info": {
   "name": "python3"
  },
  "kernelspec": {
   "display_name": "Python 3",
   "language": "python",
   "name": "python3"
  },
  "language_info": {
   "codemirror_mode": {
    "name": "ipython",
    "version": 3
   },
   "file_extension": ".py",
   "mimetype": "text/x-python",
   "name": "python",
   "nbconvert_exporter": "python",
   "pygments_lexer": "ipython3",
   "version": "3.8.3"
  },
  "latex_envs": {
   "LaTeX_envs_menu_present": true,
   "autoclose": false,
   "autocomplete": true,
   "bibliofile": "biblio.bib",
   "cite_by": "apalike",
   "current_citInitial": 1,
   "eqLabelWithNumbers": true,
   "eqNumInitial": 1,
   "hotkeys": {
    "equation": "Ctrl-E",
    "itemize": "Ctrl-I"
   },
   "labels_anchors": false,
   "latex_user_defs": false,
   "report_style_numbering": false,
   "user_envs_cfg": false
  },
  "nteract": {
   "version": "0.12.3"
  }
 },
 "nbformat": 4,
 "nbformat_minor": 2
}
